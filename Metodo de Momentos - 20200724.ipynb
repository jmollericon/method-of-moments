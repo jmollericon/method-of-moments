{
 "cells": [
  {
   "cell_type": "markdown",
   "metadata": {
    "slideshow": {
     "slide_type": "slide"
    }
   },
   "source": [
    "# Aplicación del Método de Momentos"
   ]
  },
  {
   "cell_type": "markdown",
   "metadata": {},
   "source": [
    "### Modelo de Regresión Lineal Simple\n",
    "\n",
    "Este modelo nos permite explicar **y** en términos de **x**.\n",
    "\n",
    "Sea: \n",
    "\n",
    "<!-- div style=\"text-align: center\"> $y=\\beta_0+\\beta_1x_1+\\beta_2x_2+\\epsilon$ </div-->\n",
    "<div style=\"text-align: center; font-size: 25px;\"> $y=\\beta_0+\\beta_1x+u$ </div>\n",
    "\n",
    "Donde: \n",
    "* y: variable dependiente (variable a estimar).\n",
    "* x: variable independiente (de control, dato de entrada).\n",
    "* $\\beta_0$ y $\\beta_1$: parámetros poblacionales.\n",
    "* u: término de error o perturbación no observable.\n"
   ]
  },
  {
   "cell_type": "markdown",
   "metadata": {},
   "source": [
    "* $\\beta_1$: parámetro dependiente. Mide la relación entre **x** e **y**, es decir, cómo cambia **y** cuando se producen modificaciones en **x**.\n",
    "* $\\beta_0$: término constante. Es el valor de **y** cuando **x** y **u** son cero.\n",
    "* Si todos los demás factores contenidos en **u** se mantienen constantes ($\\Delta$u = 0), **x** tiene un efecto lineal sobre **y**, es decir,\n",
    "\n",
    "<div style=\"text-align: center; font-size: 25px;\"> $\\Delta$y = $\\beta_1\\Delta$x    &nbsp;&nbsp;&nbsp;    si $\\Delta$u = 0. </div>"
   ]
  },
  {
   "cell_type": "markdown",
   "metadata": {},
   "source": [
    "### Ejemplo: Número de nuevos casos de Covid-19 en Bolivia\n",
    "\n",
    "En este caso, si y = Número de casos nuevos y x = numero de días , el término 'u' recoge factores como: número de personas que tienen contacto con personas contagiadas, uso adecuado de instrumentos de bioseguridad.\n",
    "\n"
   ]
  },
  {
   "cell_type": "markdown",
   "metadata": {},
   "source": [
    "### Linealidad en los parametros\n",
    "\n",
    "<div style=\"text-align: center; font-size: 25px;\"> $y=\\beta_0+\\beta_1x+u$ </div>\n",
    "<br/>\n",
    "<div style=\"text-align: center; font-size: 25px;\"> $\\Delta{x} = 1  => \\Delta{y} = \\beta_1, \\forall{x}, \\Delta{u}=0$. </div"
   ]
  },
  {
   "cell_type": "markdown",
   "metadata": {},
   "source": [
    "### Media condicional cero\n",
    "\n",
    "E(u|x) = 0, $\\forall{x}$ Para cualquier valor de **x**, la media del término de error no observable es siempre la misma\n",
    "e igual a cero.\n",
    "<br/><br/>\n",
    "<div style=\"text-align: center; font-size: 25px;\"> E(u|x) = E(u) = 0. </div>"
   ]
  },
  {
   "cell_type": "markdown",
   "metadata": {},
   "source": [
    "<div style=\"text-align: center;font-size: 25px;\"> E(y|x) = $\\beta_0$ + $\\beta_1$x </div>\n",
    "\n",
    "Esta expresión nos proporciona el valor de la **función de regresión poblacional**, en este caso lineal."
   ]
  },
  {
   "cell_type": "markdown",
   "metadata": {},
   "source": [
    "Supuesto 2: Como E(u|x) = E(u) = 0 implica que:\n",
    "\n",
    "<div style=\"text-align: center; font-size: 25px;\"> cov(x,u) = E(xu) = 0 </div>"
   ]
  },
  {
   "cell_type": "markdown",
   "metadata": {},
   "source": [
    "Entonces dado que:\n",
    "\n",
    "<div style=\"text-align: center; font-size: 25px;\"> $u = y - \\beta_0-\\beta_1x$ </div>"
   ]
  },
  {
   "cell_type": "markdown",
   "metadata": {},
   "source": [
    "Tenemos:\n",
    "<br/>\n",
    "<div style=\"text-align: center; font-size: 25px;\"> $E[u] = 0$ &nbsp;&nbsp; -> &nbsp;&nbsp; $E[y - \\beta_0-\\beta_1x]$ = 0 </div>\n",
    "<br/>\n",
    "<div style=\"text-align: center; font-size: 25px;\"> $E[xu] = 0$ &nbsp;&nbsp; -> &nbsp;&nbsp; $E[x(y - \\beta_0-\\beta_1x)]$ = 0 </div>"
   ]
  },
  {
   "cell_type": "markdown",
   "metadata": {},
   "source": [
    "## Método de Momentos\n",
    "\n",
    "### Objetivo:\n",
    "\n",
    "* Elegir lo valores de los parámetros poblacionales que aseguran que las versiones muestrales de las restricciones de momento son ciertas:\n",
    "\n",
    "<br/>\n",
    "<div style=\"text-align: center; font-size: 25px;\"> $\\frac{1}{n}\\displaystyle\\sum_{i=1}^{n}(y_i - \\hat{\\beta_0}-\\hat{\\beta_1}x_i)=0$ </div>\n",
    "<br/>\n",
    "<div style=\"text-align: center; font-size: 25px;\"> $\\frac{1}{n}\\displaystyle\\sum_{i=1}^{n}x_i(y_i - \\hat{\\beta_0}-\\hat{\\beta_1}x_i)=0$ </div>\n"
   ]
  },
  {
   "cell_type": "markdown",
   "metadata": {},
   "source": [
    "Tambien: \n",
    "\n",
    "<div style=\"text-align: center; font-size: 25px;\"> $\\overline{y}=\\hat{\\beta_0}+\\hat{\\beta_1}\\overline{x}$ </div>\n"
   ]
  },
  {
   "cell_type": "markdown",
   "metadata": {},
   "source": [
    "Reemplazando $\\hat{\\beta_0}$:\n",
    "\n",
    "<div style=\"text-align: center; font-size: 25px;\"> $\\displaystyle\\sum_{i=1}^{n}{x_i}(y_i-(\\overline{y}-\\hat{\\beta_1}\\overline{x})-\\hat{\\beta_1}x_i)=0$ </div>\n",
    "\n"
   ]
  },
  {
   "cell_type": "markdown",
   "metadata": {},
   "source": [
    "Agrupando términos:\n",
    "\n",
    "<div style=\"text-align: center; font-size: 25px;\"> $\\displaystyle\\sum_{i=1}^{n}{x_i}(y_i-\\overline{y})=\\hat{\\beta_1}\\displaystyle\\sum_{i=1}^{n}{x_i}(x_i-\\overline{x})$</div>"
   ]
  },
  {
   "cell_type": "markdown",
   "metadata": {},
   "source": [
    "### Resultados de la estimación\n",
    "\n",
    "\n",
    "<div style=\"text-align: center; font-size: 25px;\"> $\\hat{\\beta_0}=\\overline{y}-\\hat{\\beta_1}\\overline{x}$</div>\n",
    "<br/>\n",
    "<div style=\"text-align: center; font-size: 25px;\"> $\\hat{\\beta_1}=\\frac{\\displaystyle\\sum_{i=1}^{n}{x_i}(y_i-\\overline{y})}{\\displaystyle\\sum_{i=1}^{n}{x_i}(x_i-\\overline{x})}$</div>"
   ]
  },
  {
   "cell_type": "markdown",
   "metadata": {},
   "source": [
    "### Aplicando"
   ]
  },
  {
   "cell_type": "code",
   "execution_count": 12,
   "metadata": {
    "slideshow": {
     "slide_type": "fragment"
    }
   },
   "outputs": [
    {
     "data": {
      "text/html": [
       "<div>\n",
       "<style scoped>\n",
       "    .dataframe tbody tr th:only-of-type {\n",
       "        vertical-align: middle;\n",
       "    }\n",
       "\n",
       "    .dataframe tbody tr th {\n",
       "        vertical-align: top;\n",
       "    }\n",
       "\n",
       "    .dataframe thead th {\n",
       "        text-align: right;\n",
       "    }\n",
       "</style>\n",
       "<table border=\"1\" class=\"dataframe\">\n",
       "  <thead>\n",
       "    <tr style=\"text-align: right;\">\n",
       "      <th></th>\n",
       "      <th>Date_reported</th>\n",
       "      <th>Country_code</th>\n",
       "      <th>Country</th>\n",
       "      <th>WHO_region</th>\n",
       "      <th>New_cases</th>\n",
       "      <th>Cumulative_cases</th>\n",
       "      <th>New_deaths</th>\n",
       "      <th>Cumulative_deaths</th>\n",
       "      <th>Date_reported_ms</th>\n",
       "    </tr>\n",
       "  </thead>\n",
       "  <tbody>\n",
       "    <tr>\n",
       "      <td>3286</td>\n",
       "      <td>2020-05-22</td>\n",
       "      <td>BO</td>\n",
       "      <td>Bolivia (Plurinational State of)</td>\n",
       "      <td>AMRO</td>\n",
       "      <td>438</td>\n",
       "      <td>4919</td>\n",
       "      <td>10</td>\n",
       "      <td>199</td>\n",
       "      <td>1.590106e+12</td>\n",
       "    </tr>\n",
       "    <tr>\n",
       "      <td>3292</td>\n",
       "      <td>2020-05-28</td>\n",
       "      <td>BO</td>\n",
       "      <td>Bolivia (Plurinational State of)</td>\n",
       "      <td>AMRO</td>\n",
       "      <td>476</td>\n",
       "      <td>7136</td>\n",
       "      <td>13</td>\n",
       "      <td>274</td>\n",
       "      <td>1.590624e+12</td>\n",
       "    </tr>\n",
       "    <tr>\n",
       "      <td>3293</td>\n",
       "      <td>2020-05-29</td>\n",
       "      <td>BO</td>\n",
       "      <td>Bolivia (Plurinational State of)</td>\n",
       "      <td>AMRO</td>\n",
       "      <td>632</td>\n",
       "      <td>7768</td>\n",
       "      <td>6</td>\n",
       "      <td>280</td>\n",
       "      <td>1.590710e+12</td>\n",
       "    </tr>\n",
       "    <tr>\n",
       "      <td>3294</td>\n",
       "      <td>2020-05-30</td>\n",
       "      <td>BO</td>\n",
       "      <td>Bolivia (Plurinational State of)</td>\n",
       "      <td>AMRO</td>\n",
       "      <td>619</td>\n",
       "      <td>8387</td>\n",
       "      <td>13</td>\n",
       "      <td>293</td>\n",
       "      <td>1.590797e+12</td>\n",
       "    </tr>\n",
       "    <tr>\n",
       "      <td>3296</td>\n",
       "      <td>2020-06-01</td>\n",
       "      <td>BO</td>\n",
       "      <td>Bolivia (Plurinational State of)</td>\n",
       "      <td>AMRO</td>\n",
       "      <td>861</td>\n",
       "      <td>9592</td>\n",
       "      <td>10</td>\n",
       "      <td>310</td>\n",
       "      <td>1.590970e+12</td>\n",
       "    </tr>\n",
       "  </tbody>\n",
       "</table>\n",
       "</div>"
      ],
      "text/plain": [
       "     Date_reported  Country_code                           Country  \\\n",
       "3286    2020-05-22            BO  Bolivia (Plurinational State of)   \n",
       "3292    2020-05-28            BO  Bolivia (Plurinational State of)   \n",
       "3293    2020-05-29            BO  Bolivia (Plurinational State of)   \n",
       "3294    2020-05-30            BO  Bolivia (Plurinational State of)   \n",
       "3296    2020-06-01            BO  Bolivia (Plurinational State of)   \n",
       "\n",
       "      WHO_region   New_cases   Cumulative_cases   New_deaths  \\\n",
       "3286        AMRO         438               4919           10   \n",
       "3292        AMRO         476               7136           13   \n",
       "3293        AMRO         632               7768            6   \n",
       "3294        AMRO         619               8387           13   \n",
       "3296        AMRO         861               9592           10   \n",
       "\n",
       "       Cumulative_deaths  Date_reported_ms  \n",
       "3286                 199      1.590106e+12  \n",
       "3292                 274      1.590624e+12  \n",
       "3293                 280      1.590710e+12  \n",
       "3294                 293      1.590797e+12  \n",
       "3296                 310      1.590970e+12  "
      ]
     },
     "execution_count": 12,
     "metadata": {},
     "output_type": "execute_result"
    }
   ],
   "source": [
    "import pandas as pd\n",
    "import numpy as np\n",
    "import matplotlib.pyplot as plt\n",
    "\n",
    "df = pd.read_csv('data/WHO-COVID-19-global-data.csv') #df.columns\n",
    "df = df[(df[' Country_code']=='BO')]\n",
    "df = df[(df[' New_cases'] > 400)]\n",
    "\n",
    "df['Date_reported'] = pd.to_datetime(df['Date_reported'])\n",
    "df['Date_reported_ms'] = df['Date_reported'].astype(np.int64)/int(1e6)\n",
    "#df['Date_reported'][3301]-df['Date_reported'][3300]\n",
    "df.head()"
   ]
  },
  {
   "cell_type": "code",
   "execution_count": 2,
   "metadata": {
    "slideshow": {
     "slide_type": "slide"
    }
   },
   "outputs": [
    {
     "name": "stdout",
     "output_type": "stream",
     "text": [
      "Date_reported         datetime64[ns]\n",
      " Country_code                 object\n",
      " Country                      object\n",
      " WHO_region                   object\n",
      " New_cases                     int64\n",
      " Cumulative_cases              int64\n",
      " New_deaths                    int64\n",
      " Cumulative_deaths             int64\n",
      "Date_reported_ms             float64\n",
      "dtype: object\n"
     ]
    }
   ],
   "source": [
    "print(df.dtypes)"
   ]
  },
  {
   "cell_type": "code",
   "execution_count": 3,
   "metadata": {},
   "outputs": [
    {
     "data": {
      "image/png": "[encoded data removed]",
      "text/plain": [
       "<Figure size 432x288 with 1 Axes>"
      ]
     },
     "metadata": {
      "needs_background": "light"
     },
     "output_type": "display_data"
    }
   ],
   "source": [
    "df[' New_cases'].plot.hist();\n",
    "plt.title('Histograma - Nuevos Casos ()');"
   ]
  },
  {
   "cell_type": "code",
   "execution_count": 4,
   "metadata": {
    "slideshow": {
     "slide_type": "slide"
    }
   },
   "outputs": [
    {
     "name": "stdout",
     "output_type": "stream",
     "text": [
      "Columna  New_cases sigue una distribución normal\n",
      "Columna  Cumulative_cases NO sigue una distribución normal\n",
      "Columna  New_deaths NO sigue una distribución normal\n",
      "Columna  Cumulative_deaths NO sigue una distribución normal\n"
     ]
    }
   ],
   "source": [
    "from scipy import stats\n",
    "columnas_numericas = df.select_dtypes(['int64']).columns\n",
    "for num_col in columnas_numericas:\n",
    "    _, pval = stats.normaltest(df[num_col])\n",
    "    if(pval < 0.05):\n",
    "        print(\"Columna {} NO sigue una distribución normal\".format(num_col))\n",
    "    else:\n",
    "        print(\"Columna {} sigue una distribución normal\".format(num_col))"
   ]
  },
  {
   "cell_type": "markdown",
   "metadata": {},
   "source": [
    "### Método de Momentos"
   ]
  },
  {
   "cell_type": "code",
   "execution_count": 5,
   "metadata": {},
   "outputs": [],
   "source": [
    "# Datos (x,y)\n",
    "y = df[' New_cases'].to_numpy()\n",
    "x = df['Date_reported_ms'].to_numpy()"
   ]
  },
  {
   "cell_type": "code",
   "execution_count": 6,
   "metadata": {
    "slideshow": {
     "slide_type": "slide"
    }
   },
   "outputs": [
    {
     "data": {
      "image/png": "[encoded data removed]",
      "text/plain": [
       "<Figure size 432x288 with 1 Axes>"
      ]
     },
     "metadata": {
      "needs_background": "light"
     },
     "output_type": "display_data"
    }
   ],
   "source": [
    "plt.title('Gráfico Tiempo Vs Nuevos Casos')\n",
    "plt.xlabel('Tiempo [ms]')\n",
    "plt.ylabel('Número de Nuevos Casos')\n",
    "plt.scatter(x,y)\n",
    "plt.show()"
   ]
  },
  {
   "cell_type": "markdown",
   "metadata": {},
   "source": [
    "<div style=\"text-align: center; font-size: 20px;\"> $\\hat{\\beta_0}=\\overline{y}-\\hat{\\beta_1}\\overline{x}$</div>\n",
    "<br/>\n",
    "<div style=\"text-align: center; font-size: 20px;\"> $\\hat{\\beta_1}=\\frac{\\displaystyle\\sum_{i=1}^{n}{x_i}(y_i-\\overline{y})}{\\displaystyle\\sum_{i=1}^{n}{x_i}(x_i-\\overline{x})}$</div>"
   ]
  },
  {
   "cell_type": "code",
   "execution_count": 7,
   "metadata": {
    "slideshow": {
     "slide_type": "slide"
    }
   },
   "outputs": [
    {
     "name": "stdout",
     "output_type": "stream",
     "text": [
      "Parámetros estimados por el método de momentos: \n",
      " b0: -372993.6484998697\n",
      " b1: 2.347679709406852e-07\n",
      " Recta estimada: y = 2.347679709406852e-07x-372993.6484998697\n"
     ]
    }
   ],
   "source": [
    "# Método de Momentos\n",
    "#b1_mm = np.sum((x-x.mean())*(y-y.mean()))/np.sum(pow(x-x.mean(), 2))\n",
    "b1_mm = np.sum(x*(y-y.mean()))/np.sum(x*(x-x.mean()))\n",
    "b0_mm = y.mean() - b1_mm*x.mean()\n",
    "\n",
    "print(\"Parámetros estimados por el método de momentos: \")\n",
    "print(\" b0: \"+str(b0_mm))\n",
    "print(\" b1: \"+str(b1_mm))\n",
    "print(\" Recta estimada: y = \"+str(b1_mm)+\"x\"+str(b0_mm))"
   ]
  },
  {
   "cell_type": "code",
   "execution_count": 8,
   "metadata": {},
   "outputs": [
    {
     "data": {
      "image/png": "[encoded data removed]",
      "text/plain": [
       "<Figure size 432x288 with 1 Axes>"
      ]
     },
     "metadata": {
      "needs_background": "light"
     },
     "output_type": "display_data"
    }
   ],
   "source": [
    "# Recta estimada \n",
    "y_e = b1_mm*x + b0_mm\n",
    "\n",
    "# Graficando estimación\n",
    "plt.title('Gráfico Tiempo Vs Nuevos Casos, recta roja (estimación)')\n",
    "plt.xlabel('Tiempo [ms]')\n",
    "plt.ylabel('Número de Nuevos Casos')\n",
    "plt.scatter(x,y)\n",
    "plt.plot(x, y_e, color=\"red\")\n",
    "plt.show()"
   ]
  },
  {
   "cell_type": "markdown",
   "metadata": {
    "slideshow": {
     "slide_type": "slide"
    }
   },
   "source": [
    "### Ejemplo de uso"
   ]
  },
  {
   "cell_type": "markdown",
   "metadata": {
    "slideshow": {
     "slide_type": "slide"
    }
   },
   "source": [
    "Cuantos nuevos casos se tendrá la fecha 24/07/2020 ?"
   ]
  },
  {
   "cell_type": "code",
   "execution_count": 9,
   "metadata": {
    "slideshow": {
     "slide_type": "slide"
    }
   },
   "outputs": [
    {
     "name": "stdout",
     "output_type": "stream",
     "text": [
      "24/07/2020 -> 1595563200000.0\n"
     ]
    }
   ],
   "source": [
    "import time\n",
    "import datetime\n",
    "f_estimar = \"24/07/2020\"\n",
    "f_ms = time.mktime(datetime.datetime.strptime(f_estimar, \"%d/%m/%Y\").timetuple())*1000\n",
    "print(f_estimar+\" -> \"+str(f_ms))"
   ]
  },
  {
   "cell_type": "code",
   "execution_count": 10,
   "metadata": {
    "slideshow": {
     "slide_type": "slide"
    }
   },
   "outputs": [
    {
     "name": "stdout",
     "output_type": "stream",
     "text": [
      " -> 24/07/2020, Número de nuevos casos: 1593.0\n"
     ]
    }
   ],
   "source": [
    "y_hoy = b0_mm + b1_mm*f_ms\n",
    "print(\" -> \"+f_estimar+\", Número de nuevos casos: \"+str(round(y_hoy)))"
   ]
  }
 ],
 "metadata": {
  "kernelspec": {
   "display_name": "Python 3",
   "language": "python",
   "name": "python3"
  },
  "language_info": {
   "codemirror_mode": {
    "name": "ipython",
    "version": 3
   },
   "file_extension": ".py",
   "mimetype": "text/x-python",
   "name": "python",
   "nbconvert_exporter": "python",
   "pygments_lexer": "ipython3",
   "version": "3.7.4"
  }
 },
 "nbformat": 4,
 "nbformat_minor": 2
}
